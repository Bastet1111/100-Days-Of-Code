{
  "nbformat": 4,
  "nbformat_minor": 0,
  "metadata": {
    "colab": {
      "name": "Day 1 - E2 - Debugging Practice",
      "provenance": [],
      "collapsed_sections": [],
      "authorship_tag": "ABX9TyOccEMRSTWekoUWy+RRUiij"
    },
    "kernelspec": {
      "name": "python3",
      "display_name": "Python 3"
    },
    "language_info": {
      "name": "python"
    }
  },
  "cells": [
    {
      "cell_type": "code",
      "execution_count": null,
      "metadata": {
        "id": "LCxp4wRUNxDy",
        "colab": {
          "base_uri": "https://localhost:8080/"
        },
        "outputId": "afbd3197-9361-4cc0-f831-8211fb4dabcf"
      },
      "outputs": [
        {
          "output_type": "stream",
          "name": "stdout",
          "text": [
            "Day 1 - String Manipulation\n",
            "String Concatenation is done with the \"+\" sign.\n",
            "e.g. print(\"Hello\" + \"world\")\n",
            "New lines can be created with a backslash and n.\n"
          ]
        }
      ],
      "source": [
        "# print (\"Hello world!\\nHello world!\\nHello world!\") Da por resultado tres líneas de \"Hello World!\"\n",
        "\n",
        "# print (\"Hello\" + \"Rebeca\") Da por resultado el mensaje \"HelloRebeca\" sin espacio entre las palabras\n",
        "\n",
        "# Solucion 1 para tener un espacio entre palabras: print (\"Hello \" + \"Rebeca\")   Dejar un espacio después de escribir Hello.\n",
        "# Solución 2: (\"Hello\" + \" Rebeca\")  Dejar un espacio antes de la palabra Rebeca.\n",
        "# Solución 3: (\"Hello\" + \" \" + \"Rebeca\")  Colocar esto + \" \" + para que el programa deje un espacio.\n",
        "\n",
        "# Abajo se muestra el código ya corregido\n",
        "\n",
        "# Solución 1 : Faltaban las comillas antes de la palabra Day.\n",
        "print(\"Day 1 - String Manipulation\")\n",
        "\n",
        "# Solución 2: Se cambiaron las comillas dobles por comillas simples para que no hubiera error.\n",
        "print('String Concatenation is done with the \"+\" sign.')\n",
        "\n",
        "# Solución 3: Se quitó el espacio extra que estaba antes de print.\n",
        "print('e.g. print(\"Hello\" + \"world\")')\n",
        "\n",
        "# Solución 4: Se quitó el ( extra.\n",
        "print(\"New lines can be created with a backslash and n.\")"
      ]
    },
    {
      "cell_type": "code",
      "source": [
        ""
      ],
      "metadata": {
        "id": "aj_BFrfORSZj"
      },
      "execution_count": null,
      "outputs": []
    }
  ]
}