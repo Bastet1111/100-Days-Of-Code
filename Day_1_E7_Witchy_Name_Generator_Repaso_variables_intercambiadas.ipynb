{
  "nbformat": 4,
  "nbformat_minor": 0,
  "metadata": {
    "colab": {
      "name": "Day 1 - E7 - Witchy Name Generator - Repaso variables intercambiadas",
      "provenance": [],
      "collapsed_sections": [],
      "authorship_tag": "ABX9TyPnbH9kOJ3Y3jxSeD1B+Nmq"
    },
    "kernelspec": {
      "name": "python3",
      "display_name": "Python 3"
    },
    "language_info": {
      "name": "python"
    }
  },
  "cells": [
    {
      "cell_type": "code",
      "execution_count": 17,
      "metadata": {
        "colab": {
          "base_uri": "https://localhost:8080/"
        },
        "id": "vGGo-gPA31sF",
        "outputId": "71a1d8f8-46c6-459c-e0a3-b099b82ad36a"
      },
      "outputs": [
        {
          "output_type": "stream",
          "name": "stdout",
          "text": [
            "Welcome to the witch name generator.\n",
            "Introduce your favorite plant:\n",
            "Sunflower\n",
            "Write down your favorite animal:\n",
            "Bear\n",
            "Type your favorite quartz or gemstone:Emerald\n",
            "Your witch name could be:\n",
            "Bear Emerald Sunflower\n"
          ]
        }
      ],
      "source": [
        "#Mensaje de bienvenida\n",
        "print(\"Welcome to the witch name generator.\")\n",
        "\n",
        "#Variables plant, animal y stone para que el usuario ponga planta, animal y piedra favoritos.\n",
        "plant = input(\"Introduce your favorite plant:\\n\")\n",
        "animal = input(\"Write down your favorite animal:\\n\")\n",
        "stone = input(\"Type your favorite quartz or gemstone:\")\n",
        "\n",
        "#Variables para que cambien de lugar y quede ordenado el nombre por animal, piedra y planta.\n",
        "extra = stone\n",
        "stone = plant\n",
        "plant = animal\n",
        "animal = extra\n",
        "\n",
        "#Mensaje de salida: La suma de la variable plant y animal.\n",
        "print (\"Your witch name could be:\\n\" + plant + \" \" + animal + \" \" + stone)"
      ]
    }
  ]
}