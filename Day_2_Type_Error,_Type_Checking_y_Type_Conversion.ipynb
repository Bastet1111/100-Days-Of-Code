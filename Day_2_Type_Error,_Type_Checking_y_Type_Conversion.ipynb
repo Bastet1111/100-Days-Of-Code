{
  "nbformat": 4,
  "nbformat_minor": 0,
  "metadata": {
    "colab": {
      "name": "Day 2 - Type Error, Type Checking y Type Conversion",
      "provenance": [],
      "collapsed_sections": [],
      "authorship_tag": "ABX9TyPK58zUNE72hXl01ClMes6W"
    },
    "kernelspec": {
      "name": "python3",
      "display_name": "Python 3"
    },
    "language_info": {
      "name": "python"
    }
  },
  "cells": [
    {
      "cell_type": "code",
      "execution_count": 19,
      "metadata": {
        "colab": {
          "base_uri": "https://localhost:8080/"
        },
        "id": "QK89sKMj4g4U",
        "outputId": "d582234e-8bb8-4375-93c5-c93416c6e33a"
      },
      "outputs": [
        {
          "output_type": "stream",
          "name": "stdout",
          "text": [
            "<class 'float'>\n",
            "170.5\n",
            "70100\n"
          ]
        }
      ],
      "source": [
        "#La función len NO PUEDE TRABAJAR CON INTEGER y eso generará un error conocido como TypeError.\n",
        "#len(12345)\n",
        "\n",
        "#Este es otro ejemplo que podría generar un TypeError por concatenar con len.\n",
        "#num_char = len (input (\"What is your name? \")) #<< YA FUNCIONA\n",
        "#^La línea de código de arriba es un INTEGER\n",
        "#print(\"Your name has \" + num_char + \" characters\") << ESTO NOS GENERA TypeError.\n",
        "#Para evitar un TypeError debemos checar el tipo de dato que vamos a manejar ocupando type.\n",
        "\n",
        "#print(type (num_char) )\n",
        "#Este código nos va a decir que se trata de un INTEGER.\n",
        "#Al estar agregando el INT, esto nos generaba el error.\n",
        "\n",
        "#También puede hacerse del siguiente modo:\n",
        "#print(type(len(input(\"What is your name? \"))))\n",
        "\n",
        "#¿QUÉ SE PUEDE HACER? Convertir el INTEGER a STRING y luego tenerlo dentro de otra nueva variable.\n",
        "#new_num_char = str(num_char) #<< YA FUNCIONA\n",
        "\n",
        "#Y ahora sí debería funcionar haciendo esto:\n",
        "#print(\"Your name has \" + new_num_char + \" characters\") #YA FUNCIONA\n",
        "#Al correr el programa va a preguntar el nombre y luego mostrará un mensaje de que tiene X caracteres.\n",
        "\n",
        "\n",
        "#Otro ejemplo:\n",
        "#a = 123 #<< ESTO ES UN INTEGER.\n",
        "\n",
        "#Vamos a convertir a a un STRING.\n",
        "#a = str(123)\n",
        "\n",
        "#print(type(a))\n",
        "#El programa nos muestra que a es un INTEGER cuando escribimos a = 123\n",
        "#Cuando cambiamos a a = str(123), ya nos lo muestra como STRING.\n",
        "\n",
        "\n",
        "#Vamos a cambiarlo ahora a FLOAT. Colocamos a lado de (123) la palabra float.\n",
        "a = float(123)\n",
        "print(type(a))\n",
        "\n",
        "#¿Y si ponemos esta línea de código?\n",
        "print(70 + float(\"100.5\")) #Estamos convirtiendo el 100.5 en un FLOATING POINT y luego le sumamos 70.\n",
        "#Nos va a mostrar en pantalla que la clase es FLOAT y que la suma de 70 + 100.5 es 170.5\n",
        "\n",
        "#¿Qué pasa si escribimos lo siguiente?\n",
        "print(str(70) + str(100))\n",
        "#NO HARÁ SUMA, NOS MOTRARÁ EL 70 Y EL 100 JUNTOS ASÍ: 70100\n"
      ]
    }
  ]
}