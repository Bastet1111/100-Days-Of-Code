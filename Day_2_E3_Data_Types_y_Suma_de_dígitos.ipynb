{
  "nbformat": 4,
  "nbformat_minor": 0,
  "metadata": {
    "colab": {
      "name": "Day 2 - E3 - Data Types y Suma de dígitos",
      "provenance": [],
      "collapsed_sections": [],
      "authorship_tag": "ABX9TyOdIjd+vJdPn7BqweKKYXWR"
    },
    "kernelspec": {
      "name": "python3",
      "display_name": "Python 3"
    },
    "language_info": {
      "name": "python"
    }
  },
  "cells": [
    {
      "cell_type": "code",
      "execution_count": 11,
      "metadata": {
        "colab": {
          "base_uri": "https://localhost:8080/"
        },
        "id": "oUsjFfo1Ae2y",
        "outputId": "97a84cce-0350-49df-cfdf-4db78ad503ed"
      },
      "outputs": [
        {
          "output_type": "stream",
          "name": "stdout",
          "text": [
            "Type a two digit number: 89\n",
            "17\n"
          ]
        }
      ],
      "source": [
        "# 🚨 Don't change the code below 👇\n",
        "two_digit_number = input(\"Type a two digit number: \")\n",
        "# 🚨 Don't change the code above 👆\n",
        "\n",
        "####################################\n",
        "#Write your code below this line 👇\n",
        "\n",
        "#ESTE ES MI INTENTO\n",
        "#print(type(two_digit_number))\n",
        "#print(int(two_digit_number[0]) + int(two_digit_number[1]))\n",
        "#FIN DE MI INTENTO\n",
        "\n",
        "#RESPUESTA DEL CURSO\n",
        "#Aquí se agregaron dos variables para poner dentro otra variable.\n",
        "#Estas son first_digit_number y second_digit_number.\n",
        "#Con estas variables se separan del string los dígitos correspondientes para luego sumarlos.\n",
        "first_digit_number = two_digit_number[0]\n",
        "second_digit_number = two_digit_number[1]\n",
        "\n",
        "#Con este código ya se hace la suma de first_digit_number y second_digit_number\n",
        "result = int(first_digit_number) + int(second_digit_number)\n",
        "print(result)\n",
        "#FIN RESPUESTA DEL CURSO"
      ]
    }
  ]
}