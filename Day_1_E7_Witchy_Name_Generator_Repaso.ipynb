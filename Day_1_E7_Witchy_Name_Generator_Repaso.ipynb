{
  "nbformat": 4,
  "nbformat_minor": 0,
  "metadata": {
    "colab": {
      "name": "Day 1 - E7 - Witchy Name Generator - Repaso",
      "provenance": [],
      "collapsed_sections": [],
      "authorship_tag": "ABX9TyM3gvvvulD4kls4Bv1EXbL1"
    },
    "kernelspec": {
      "name": "python3",
      "display_name": "Python 3"
    },
    "language_info": {
      "name": "python"
    }
  },
  "cells": [
    {
      "cell_type": "code",
      "execution_count": 10,
      "metadata": {
        "colab": {
          "base_uri": "https://localhost:8080/"
        },
        "id": "vGGo-gPA31sF",
        "outputId": "c19a1fcc-d5e2-46ac-dac5-79797f012f6d"
      },
      "outputs": [
        {
          "output_type": "stream",
          "name": "stdout",
          "text": [
            "Welcome to the witch name generator.\n",
            "Introduce your favorite plant:\n",
            "Lily\n",
            "Write down your favorite animal:\n",
            "Dove\n",
            "Type your favorite quartz or gemstone:Tourmaline\n",
            "Your witch name could be:\n",
            "Lily Dove Tourmaline\n"
          ]
        }
      ],
      "source": [
        "#Mensaje de bienvenida\n",
        "print(\"Welcome to the witch name generator.\")\n",
        "\n",
        "#Variables plant, animal y stone para que el usuario ponga planta, animal y piedra favoritos.\n",
        "plant = input(\"Introduce your favorite plant:\\n\")\n",
        "animal = input(\"Write down your favorite animal:\\n\")\n",
        "stone = input(\"Type your favorite quartz or gemstone:\")\n",
        "\n",
        "#Mensaje de salida: La suma de la variable plant y animal.\n",
        "print (\"Your witch name could be:\\n\" + plant + \" \" + animal + \" \" + stone)"
      ]
    }
  ]
}