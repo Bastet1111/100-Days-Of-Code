{
  "nbformat": 4,
  "nbformat_minor": 0,
  "metadata": {
    "colab": {
      "name": "Day 1 - E7 - Witchy Name Generator - Repaso",
      "provenance": [],
      "collapsed_sections": [],
      "authorship_tag": "ABX9TyNOVSje0D7/hOe8nQNH8OGx"
    },
    "kernelspec": {
      "name": "python3",
      "display_name": "Python 3"
    },
    "language_info": {
      "name": "python"
    }
  },
  "cells": [
    {
      "cell_type": "code",
      "execution_count": 9,
      "metadata": {
        "colab": {
          "base_uri": "https://localhost:8080/"
        },
        "id": "vGGo-gPA31sF",
        "outputId": "ce3bfa30-780e-4bb3-b077-0e9a7a7cba73"
      },
      "outputs": [
        {
          "output_type": "stream",
          "name": "stdout",
          "text": [
            "Welcome to the witch name generator.\n",
            "Introduce your favorite plant:\n",
            "Basil\n",
            "Write down your favorite animal:\n",
            "Snake\n",
            "Type your favorite quartz or gemstone:Tourmaline\n",
            "Your witch name could be:\n",
            "Basil Snake Tourmaline\n"
          ]
        }
      ],
      "source": [
        "#Mensaje de bienvenida\n",
        "print(\"Welcome to the witch name generator.\")\n",
        "\n",
        "#Variables plant y animal para que el usuario ponga planta y animal favorito.\n",
        "plant = input(\"Introduce your favorite plant:\\n\")\n",
        "animal = input(\"Write down your favorite animal:\\n\")\n",
        "stone = input(\"Type your favorite quartz or gemstone:\")\n",
        "\n",
        "#Mensaje de salida: La suma de la variable plant y animal.\n",
        "print (\"Your witch name could be:\\n\" + plant + \" \" + animal + \" \" + stone)"
      ]
    }
  ]
}