{
  "nbformat": 4,
  "nbformat_minor": 0,
  "metadata": {
    "colab": {
      "name": "Dia 1 - E3 - Input Function",
      "provenance": [],
      "collapsed_sections": [],
      "authorship_tag": "ABX9TyOcIredhYLDvGxcA8yKEu12"
    },
    "kernelspec": {
      "name": "python3",
      "display_name": "Python 3"
    },
    "language_info": {
      "name": "python"
    }
  },
  "cells": [
    {
      "cell_type": "code",
      "execution_count": 1,
      "metadata": {
        "colab": {
          "base_uri": "https://localhost:8080/"
        },
        "id": "vWXcuGTYavXt",
        "outputId": "c1c2349c-cd23-478a-d61b-b843a4413f83"
      },
      "outputs": [
        {
          "output_type": "stream",
          "name": "stdout",
          "text": [
            "What is your name? Daniel\n",
            "6\n"
          ]
        }
      ],
      "source": [
        "#Mi intento:\n",
        "#print(\"Hello \" + input(\"What's your name?\"))\n",
        "#print(len(input()))\n",
        "\n",
        "#input(\"What's your name? \")\n",
        "#A los tres paréntesis que encierran una función dentro de una función se le llama 'Anidar' o 'Nesting'.\n",
        "\n",
        "print( len( input( \"What is your name? \" ) ) )"
      ]
    }
  ]
}