{
  "nbformat": 4,
  "nbformat_minor": 0,
  "metadata": {
    "colab": {
      "name": "Day 1 - E5 - Práctica de variables e intercambio",
      "provenance": [],
      "collapsed_sections": [],
      "authorship_tag": "ABX9TyP6G6+wVpG1RnUgGy9TMvvT"
    },
    "kernelspec": {
      "name": "python3",
      "display_name": "Python 3"
    },
    "language_info": {
      "name": "python"
    }
  },
  "cells": [
    {
      "cell_type": "code",
      "execution_count": null,
      "metadata": {
        "colab": {
          "base_uri": "https://localhost:8080/"
        },
        "id": "YhDxD8G70Cx9",
        "outputId": "246c8e1b-4ec2-4d4e-8a7e-03b6fb9981cd"
      },
      "outputs": [
        {
          "output_type": "stream",
          "name": "stdout",
          "text": [
            "a: 5\n",
            "b: 100\n",
            "a: 100\n",
            "b: 5\n"
          ]
        }
      ],
      "source": [
        "# 🚨 Don't change the code below 👇\n",
        "a = input(\"a: \")\n",
        "b = input(\"b: \")\n",
        "# 🚨 Don't change the code above 👆\n",
        "\n",
        "####################################\n",
        "#Write your code below this line 👇\n",
        "#MI SOLUCIÓN EN TEORÍA SERÍA TENER UNA VARIABLE C PERO AL FINAL TERMINÉ HACIENDO UNA VARIABLE D.\n",
        "#CON MI SOLUCIÓN AL FINAL SE HACE PRINT DE LA INFORMACIÓN EN EL ORDEN OPUESTO AUNQUE PUEDE SER ALGO DE TRAMPA.\n",
        "#c = b\n",
        "#d = a\n",
        "#print(\"a: \" + c)\n",
        "#print(\"b: \" + d)\n",
        "\n",
        "#LA SOLUCIÓN CORRECTA Y QUE PONEN DE PREGUNTA EN ENTREVISTAS ES USAR SOLO 3 VARIABLES.\n",
        "c = a\n",
        "a = b\n",
        "b = c\n",
        "\n",
        "\n",
        "#Write your code above this line 👆\n",
        "####################################\n",
        "\n",
        "# 🚨 Don't change the code below 👇\n",
        "print(\"a: \" + a)\n",
        "print(\"b: \" + b)"
      ]
    }
  ]
}