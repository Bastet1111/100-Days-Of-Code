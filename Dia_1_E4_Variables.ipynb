{
  "nbformat": 4,
  "nbformat_minor": 0,
  "metadata": {
    "colab": {
      "name": "Dia 1 - E4 - Variables",
      "provenance": [],
      "authorship_tag": "ABX9TyMSe/VFxBBDnpXGVYijIddG"
    },
    "kernelspec": {
      "name": "python3",
      "display_name": "Python 3"
    },
    "language_info": {
      "name": "python"
    }
  },
  "cells": [
    {
      "cell_type": "code",
      "execution_count": 1,
      "metadata": {
        "colab": {
          "base_uri": "https://localhost:8080/"
        },
        "id": "mu3UUMZEw_tx",
        "outputId": "1c8e7cc2-13be-4f74-b8f9-ec768f720af1"
      },
      "outputs": [
        {
          "output_type": "stream",
          "name": "stdout",
          "text": [
            "Mariana\n",
            "Diana\n",
            "What is your name?Luna\n",
            "4\n"
          ]
        }
      ],
      "source": [
        "name = \"Mariana\"\n",
        "print (name)\n",
        "\n",
        "name = \"Diana\"\n",
        "print (name)\n",
        "\n",
        "# Esta línea de código era la anterior y con anidación: print(len (input (\"What is your name?\") ) )\n",
        "\n",
        "#Nuevo formato\n",
        "name = input (\"What is your name?\")\n",
        "length = len(name)\n",
        "print(length)"
      ]
    }
  ]
}