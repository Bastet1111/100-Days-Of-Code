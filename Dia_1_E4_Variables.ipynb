{
  "nbformat": 4,
  "nbformat_minor": 0,
  "metadata": {
    "colab": {
      "name": "Dia 1 - E4 - Variables",
      "provenance": [],
      "authorship_tag": "ABX9TyPBhhqWFKA+gz40T+WNBQI7",
      "include_colab_link": true
    },
    "kernelspec": {
      "name": "python3",
      "display_name": "Python 3"
    },
    "language_info": {
      "name": "python"
    }
  },
  "cells": [
    {
      "cell_type": "markdown",
      "metadata": {
        "id": "view-in-github",
        "colab_type": "text"
      },
      "source": [
        "<a href=\"https://colab.research.google.com/github/RebeDrawsStuff/100-Days-Of-Code/blob/main/Dia_1_E4_Variables.ipynb\" target=\"_parent\"><img src=\"https://colab.research.google.com/assets/colab-badge.svg\" alt=\"Open In Colab\"/></a>"
      ]
    },
    {
      "cell_type": "code",
      "execution_count": null,
      "metadata": {
        "colab": {
          "base_uri": "https://localhost:8080/"
        },
        "id": "mu3UUMZEw_tx",
        "outputId": "2452427b-165b-4921-fa5b-41267ca3f8e2"
      },
      "outputs": [
        {
          "output_type": "stream",
          "name": "stdout",
          "text": [
            "Rebeca\n",
            "Monica\n",
            "What is your name?Rebeca\n",
            "6\n"
          ]
        }
      ],
      "source": [
        "name = \"Rebeca\"\n",
        "print (name)\n",
        "\n",
        "name = \"Monica\"\n",
        "print (name)\n",
        "\n",
        "# Esta línea de código era la anterior y con anidación: print(len (input (\"What is your name?\") ) )\n",
        "\n",
        "#Nuevo formato\n",
        "name = input (\"What is your name?\")\n",
        "length = len(name)\n",
        "print(length)"
      ]
    }
  ]
}