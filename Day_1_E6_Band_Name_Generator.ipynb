{
  "nbformat": 4,
  "nbformat_minor": 0,
  "metadata": {
    "colab": {
      "name": "Day 1 - E6 - Band Name Generator",
      "provenance": [],
      "collapsed_sections": [],
      "authorship_tag": "ABX9TyMX4Rmc6J1/nxaClEqpdHOZ"
    },
    "kernelspec": {
      "name": "python3",
      "display_name": "Python 3"
    },
    "language_info": {
      "name": "python"
    }
  },
  "cells": [
    {
      "cell_type": "code",
      "execution_count": 1,
      "metadata": {
        "colab": {
          "base_uri": "https://localhost:8080/"
        },
        "id": "-nLxg2_e805J",
        "outputId": "e9cd5fe3-131d-40fb-c893-a2ea26d42cd5"
      },
      "outputs": [
        {
          "output_type": "stream",
          "name": "stdout",
          "text": [
            "Hello and welcome to the band name generator\n",
            "In which city did you grow up?\n",
            "Atlanta\n",
            "Write the name of a pet.\n",
            "PomPom\n",
            "Your band name could be Atlanta PomPom Electric Boogaloo\n"
          ]
        }
      ],
      "source": [
        "#1. Create a greeting for your program // Crear saludo del programa.\n",
        "print(\"Hello and welcome to the band name generator\")\n",
        "\n",
        "#2. Ask the user for the city that they grew up in // Preguntar en qué ciudad creció.\n",
        "#Para que el cursor salga en la siguiente línea es necesario poner \\n dentro de las \"\" en el input.\n",
        "city = input(\"In which city did you grow up?\\n\")\n",
        "\n",
        "#3. Ask the user for the name of a pet // Preguntar por el nombre de su mascota. \n",
        "#Para que el cursor salga en la siguiente línea es necesario poner \\n dentro de las \"\" en el input.\n",
        "pet = input(\"Write the name of a pet.\\n\")\n",
        "\n",
        "#4. Combine the name of their city and pet and show them their band name // Combinar ciudad y mascota.\n",
        "#Recuerda poner siempre entre las variables city y pet + \" \" + para generar un espacio.\n",
        "#También recordar que los nombres de las variables deben estar correctamente escritos para que funcione.\n",
        "#El Electric Boogaloo del final es trolleo mío XD pero se puede quitar.\n",
        "print(\"Your band name could be \" + city +\" \"+ pet +\" \"+ \"Electric\" + \" \"+ \"Boogaloo\")\n",
        "\n",
        "#5. Make sure the input cursor shows on a new line, see the example at:\n",
        "#   https://replit.com/@appbrewery/band-name-generator-end"
      ]
    }
  ]
}