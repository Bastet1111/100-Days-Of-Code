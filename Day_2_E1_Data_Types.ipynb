{
  "nbformat": 4,
  "nbformat_minor": 0,
  "metadata": {
    "colab": {
      "name": "Day 2 - E1 - Data Types",
      "provenance": [],
      "collapsed_sections": [],
      "authorship_tag": "ABX9TyMfjpochk7QsacR4RqmUxPT"
    },
    "kernelspec": {
      "name": "python3",
      "display_name": "Python 3"
    },
    "language_info": {
      "name": "python"
    }
  },
  "cells": [
    {
      "cell_type": "code",
      "execution_count": 21,
      "metadata": {
        "colab": {
          "base_uri": "https://localhost:8080/"
        },
        "id": "xUqWjX7Zvwio",
        "outputId": "93898290-0586-4123-c41a-a8f959119406"
      },
      "outputs": [
        {
          "output_type": "stream",
          "name": "stdout",
          "text": [
            "Hello\n",
            "H\n",
            "o\n",
            "123345\n",
            "468\n",
            "123456789\n",
            "3.14159\n",
            "3141.59\n",
            "True\n",
            "False\n",
            "yo\n"
          ]
        }
      ],
      "source": [
        "#Data Types // Tipos de datos\n",
        "\n",
        "#STRINGS - Son los que tienen \" \"\n",
        "#En print(\"Hello\"), nuestro string sería \"Hello\"\n",
        "print(\"Hello\")\n",
        "\n",
        "#SUBSCRIPT - Extraer un solo caracter de un String.\n",
        "#Al colocar entre [] el número 0, le pedimos que nos muestre el primer caracter que es la H en \"Hello\".\n",
        "#Es importante recordar entonces que los programadores empiezan a contar desde el número 0 (cero).\n",
        "print(\"Hello\"[0])\n",
        "print(\"Hello\"[4])\n",
        "\n",
        "#Uno creería que al poner el signo + entre dos números se sumarían pero lo que muestran es todo junto.\n",
        "#Al mostrar 123345 visualmente juntos en vez de sumarlos se le llama CONCATENAR.\n",
        "print(\"123\" + \"345\")\n",
        "\n",
        "#INTEGER - Es para declarar números ENTEROS (sin decimales).\n",
        "#De este modo ya se puede hacer una suma del siguiente modo:\n",
        "print(123 + 345)\n",
        "\n",
        "#LARGE INTEGER - Este tipo de dato se ocupa para cantidades grandes que requieren comas.\n",
        "#Por ejemplo el número 123,456,789. Sin embargo, al no poder usar las comas, se ocupa guion bajo _.\n",
        "#Es importante recordar que los espacios NO aparecerán en el programa pero nos recuerdan que hay ,\n",
        "print(123_456_789)\n",
        "\n",
        "#FLOAT - Este tipo de dato se ocupa cuando hay números DECIMALES\n",
        "#Debido a que el . puede cambiar de lugar, a esto se le llama FLOATING POINT NUMBER.\n",
        "print(3.14159)\n",
        "print(3141.59)\n",
        "\n",
        "#BOOLEAN - Solo tiene dos valores: True o False. NUNCA LLEVAN \" \".\n",
        "print(True)\n",
        "print(False)\n",
        "\n",
        "#NOTAS EXTRAS: PARA INTEGER, LARGE INTEGER, FLOAT Y BOOLEAN SE PUEDE OMITIR print.\n",
        "#Agregué el print para ver toda la información de los ejemplos al correr el programa.\n",
        "\n",
        "#Ejercicio extra del quiz:\n",
        "street_name = \"Abbey Road\"\n",
        "print(street_name[4] + street_name[7])\n",
        "#Muestra las letras \"Y\" y \"O\" puesto que estás pidiendo que extraiga el caracter 4 y 7 en \"Abbey Road\"."
      ]
    }
  ]
}