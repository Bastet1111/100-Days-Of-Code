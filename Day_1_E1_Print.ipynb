{
  "nbformat": 4,
  "nbformat_minor": 0,
  "metadata": {
    "colab": {
      "name": "Day 1 - E1 - Print",
      "provenance": [],
      "collapsed_sections": [],
      "authorship_tag": "ABX9TyPaP89pX5PvR7BdRh0mutYf"
    },
    "kernelspec": {
      "name": "python3",
      "display_name": "Python 3"
    },
    "language_info": {
      "name": "python"
    }
  },
  "cells": [
    {
      "cell_type": "code",
      "execution_count": null,
      "metadata": {
        "id": "D8VAYC_72uCW",
        "outputId": "8e269d30-f0ac-431a-b9e8-a112e9d98c37",
        "colab": {
          "base_uri": "https://localhost:8080/"
        }
      },
      "outputs": [
        {
          "output_type": "stream",
          "name": "stdout",
          "text": [
            "Day 1 - Python Print Function\n",
            "The function is declared like this:\n",
            "print('What to print')\n"
          ]
        }
      ],
      "source": [
        "print (\"Day 1 - Python Print Function\")\n",
        "print (\"The function is declared like this:\")\n",
        "print (\"print('What to print')\")"
      ]
    }
  ]
}